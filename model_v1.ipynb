{
 "cells": [
  {
   "cell_type": "code",
   "execution_count": 66,
   "id": "994545d4-769d-426b-b2d0-a05aa0bef444",
   "metadata": {
    "collapsed": false,
    "execution": {
     "iopub.execute_input": "2022-04-15T15:48:41.139556Z",
     "iopub.status.busy": "2022-04-15T15:48:41.139287Z",
     "iopub.status.idle": "2022-04-15T15:48:41.146961Z",
     "shell.execute_reply": "2022-04-15T15:48:41.146064Z",
     "shell.execute_reply.started": "2022-04-15T15:48:41.139529Z"
    },
    "gradient": {
     "editing": false,
     "id": "994545d4-769d-426b-b2d0-a05aa0bef444",
     "kernelId": "723cbc02-b4ac-4bbe-9f3d-7d81dae16521",
     "source_hidden": false
    },
    "jupyter": {
     "outputs_hidden": false
    }
   },
   "outputs": [],
   "source": [
    "import os\n",
    "import numpy as np\n",
    "import pandas as pd\n",
    "import tensorflow as tf\n",
    "from tensorflow import keras\n",
    "from keras import layers\n",
    "from tensorflow.keras.preprocessing.text import tokenizer_from_json, Tokenizer"
   ]
  },
  {
   "cell_type": "code",
   "execution_count": 67,
   "id": "1be6f140-fcdd-407c-a2d3-19189fbfc078",
   "metadata": {
    "collapsed": false,
    "execution": {
     "iopub.execute_input": "2022-04-15T15:48:41.149521Z",
     "iopub.status.busy": "2022-04-15T15:48:41.148525Z",
     "iopub.status.idle": "2022-04-15T15:48:41.224395Z",
     "shell.execute_reply": "2022-04-15T15:48:41.223646Z",
     "shell.execute_reply.started": "2022-04-15T15:48:41.149492Z"
    },
    "gradient": {
     "editing": false,
     "id": "1be6f140-fcdd-407c-a2d3-19189fbfc078",
     "kernelId": "723cbc02-b4ac-4bbe-9f3d-7d81dae16521",
     "source_hidden": false
    },
    "jupyter": {
     "outputs_hidden": false
    }
   },
   "outputs": [],
   "source": [
    "path = 'train.csv'\n",
    "df = pd.read_csv(path)\n",
    "df = df.drop(columns=['id', 'context'])"
   ]
  },
  {
   "cell_type": "code",
   "execution_count": 68,
   "id": "7190071a-7612-4f97-870e-1f9cd20aad56",
   "metadata": {
    "collapsed": false,
    "execution": {
     "iopub.execute_input": "2022-04-15T15:48:41.225687Z",
     "iopub.status.busy": "2022-04-15T15:48:41.225483Z",
     "iopub.status.idle": "2022-04-15T15:48:41.231669Z",
     "shell.execute_reply": "2022-04-15T15:48:41.230468Z",
     "shell.execute_reply.started": "2022-04-15T15:48:41.225662Z"
    },
    "gradient": {
     "editing": false,
     "id": "7190071a-7612-4f97-870e-1f9cd20aad56",
     "kernelId": "723cbc02-b4ac-4bbe-9f3d-7d81dae16521",
     "source_hidden": false
    },
    "jupyter": {
     "outputs_hidden": false
    }
   },
   "outputs": [],
   "source": [
    "x_data_1 = df['anchor']\n",
    "x_data_2 = df['target']\n",
    "score = df['score']"
   ]
  },
  {
   "cell_type": "code",
   "execution_count": 69,
   "id": "5d1d7c55-6652-442f-bd89-a063eaa0f0fb",
   "metadata": {
    "collapsed": false,
    "execution": {
     "iopub.execute_input": "2022-04-15T15:48:41.233128Z",
     "iopub.status.busy": "2022-04-15T15:48:41.232928Z",
     "iopub.status.idle": "2022-04-15T15:48:41.250309Z",
     "shell.execute_reply": "2022-04-15T15:48:41.249678Z",
     "shell.execute_reply.started": "2022-04-15T15:48:41.233102Z"
    },
    "gradient": {
     "editing": false,
     "id": "5d1d7c55-6652-442f-bd89-a063eaa0f0fb",
     "kernelId": "723cbc02-b4ac-4bbe-9f3d-7d81dae16521",
     "source_hidden": false
    },
    "jupyter": {
     "outputs_hidden": false
    }
   },
   "outputs": [],
   "source": [
    "x_combined = x_data_1 + \" \" + x_data_2"
   ]
  },
  {
   "cell_type": "code",
   "execution_count": 70,
   "id": "f4a04e81-7f3b-4172-abe1-da2f3479b983",
   "metadata": {
    "collapsed": false,
    "execution": {
     "iopub.execute_input": "2022-04-15T15:48:41.253469Z",
     "iopub.status.busy": "2022-04-15T15:48:41.252690Z",
     "iopub.status.idle": "2022-04-15T15:48:41.663688Z",
     "shell.execute_reply": "2022-04-15T15:48:41.662964Z",
     "shell.execute_reply.started": "2022-04-15T15:48:41.253426Z"
    },
    "gradient": {
     "editing": true,
     "id": "f4a04e81-7f3b-4172-abe1-da2f3479b983",
     "kernelId": "723cbc02-b4ac-4bbe-9f3d-7d81dae16521",
     "source_hidden": false
    },
    "jupyter": {
     "outputs_hidden": false
    }
   },
   "outputs": [],
   "source": [
    "tokenizer = Tokenizer()\n",
    "tokenizer.fit_on_texts(x_combined)"
   ]
  },
  {
   "cell_type": "code",
   "execution_count": 71,
   "id": "4f8d1138-732f-4fd4-bf68-aa49242c890d",
   "metadata": {
    "collapsed": false,
    "execution": {
     "iopub.execute_input": "2022-04-15T15:48:41.665014Z",
     "iopub.status.busy": "2022-04-15T15:48:41.664775Z",
     "iopub.status.idle": "2022-04-15T15:48:42.280116Z",
     "shell.execute_reply": "2022-04-15T15:48:42.279371Z",
     "shell.execute_reply.started": "2022-04-15T15:48:41.664989Z"
    },
    "gradient": {
     "editing": false,
     "execution_count": 9,
     "id": "4f8d1138-732f-4fd4-bf68-aa49242c890d",
     "kernelId": "723cbc02-b4ac-4bbe-9f3d-7d81dae16521",
     "source_hidden": false
    },
    "jupyter": {
     "outputs_hidden": false
    }
   },
   "outputs": [],
   "source": [
    "anchor_tokenized = tokenizer.texts_to_sequences(x_data_1)\n",
    "target_tokenized = tokenizer.texts_to_sequences(x_data_2)"
   ]
  },
  {
   "cell_type": "code",
   "execution_count": 72,
   "id": "2c1fa626-bbcd-4f8d-964c-79f2cbad61d1",
   "metadata": {
    "execution": {
     "iopub.execute_input": "2022-04-15T15:48:42.281374Z",
     "iopub.status.busy": "2022-04-15T15:48:42.281189Z",
     "iopub.status.idle": "2022-04-15T15:48:42.661388Z",
     "shell.execute_reply": "2022-04-15T15:48:42.660610Z",
     "shell.execute_reply.started": "2022-04-15T15:48:42.281349Z"
    }
   },
   "outputs": [],
   "source": [
    "padded_anchor = tf.keras.preprocessing.sequence.pad_sequences(anchor_tokenized, maxlen=7)\n",
    "padded_target = tf.keras.preprocessing.sequence.pad_sequences(target_tokenized, maxlen=17)"
   ]
  },
  {
   "cell_type": "code",
   "execution_count": 73,
   "id": "025731ba-6480-49d0-bf8d-2411098d7c3d",
   "metadata": {
    "collapsed": false,
    "execution": {
     "iopub.execute_input": "2022-04-15T15:48:42.662601Z",
     "iopub.status.busy": "2022-04-15T15:48:42.662419Z",
     "iopub.status.idle": "2022-04-15T15:48:42.685145Z",
     "shell.execute_reply": "2022-04-15T15:48:42.683655Z",
     "shell.execute_reply.started": "2022-04-15T15:48:42.662577Z"
    },
    "gradient": {
     "editing": false,
     "execution_count": 17,
     "id": "025731ba-6480-49d0-bf8d-2411098d7c3d",
     "kernelId": "723cbc02-b4ac-4bbe-9f3d-7d81dae16521",
     "source_hidden": false
    },
    "jupyter": {
     "outputs_hidden": false
    }
   },
   "outputs": [],
   "source": [
    "all_inputs = tf.keras.layers.Concatenate(axis=1)([padded_anchor, padded_target])"
   ]
  },
  {
   "cell_type": "code",
   "execution_count": 74,
   "id": "dd79fa79-7127-4be5-aa06-8ccb866d9802",
   "metadata": {
    "execution": {
     "iopub.execute_input": "2022-04-15T15:48:42.687533Z",
     "iopub.status.busy": "2022-04-15T15:48:42.687156Z",
     "iopub.status.idle": "2022-04-15T15:48:42.696064Z",
     "shell.execute_reply": "2022-04-15T15:48:42.695078Z",
     "shell.execute_reply.started": "2022-04-15T15:48:42.687488Z"
    },
    "gradient": {
     "editing": false,
     "id": "dd79fa79-7127-4be5-aa06-8ccb866d9802",
     "kernelId": "723cbc02-b4ac-4bbe-9f3d-7d81dae16521",
     "source_hidden": false
    }
   },
   "outputs": [],
   "source": [
    "from sklearn.preprocessing import LabelEncoder\n",
    "LE = LabelEncoder()\n",
    "y_score = LE.fit_transform(score)"
   ]
  },
  {
   "cell_type": "code",
   "execution_count": 75,
   "id": "4db109a6-49c5-42b7-bc66-e207326b9784",
   "metadata": {
    "execution": {
     "iopub.execute_input": "2022-04-15T15:48:42.697767Z",
     "iopub.status.busy": "2022-04-15T15:48:42.697517Z",
     "iopub.status.idle": "2022-04-15T15:48:42.707691Z",
     "shell.execute_reply": "2022-04-15T15:48:42.706471Z",
     "shell.execute_reply.started": "2022-04-15T15:48:42.697741Z"
    }
   },
   "outputs": [],
   "source": [
    "x_data = all_inputs[:33000]\n",
    "x_val = all_inputs[33000:]\n",
    "y_data = y_score[:33000]\n",
    "y_val = y_score[33000:]"
   ]
  },
  {
   "cell_type": "markdown",
   "id": "0d99888b-3ba3-4d1a-b58b-7a51bbc32020",
   "metadata": {},
   "source": [
    "## Build Encoder Decoder Model"
   ]
  },
  {
   "cell_type": "code",
   "execution_count": 76,
   "id": "9d3fa1bc-3e3d-4876-8ef5-93c92b1678aa",
   "metadata": {
    "execution": {
     "iopub.execute_input": "2022-04-15T15:48:42.709142Z",
     "iopub.status.busy": "2022-04-15T15:48:42.708921Z",
     "iopub.status.idle": "2022-04-15T15:48:42.715812Z",
     "shell.execute_reply": "2022-04-15T15:48:42.714787Z",
     "shell.execute_reply.started": "2022-04-15T15:48:42.709116Z"
    }
   },
   "outputs": [],
   "source": [
    "class PositionalEmbedding(keras.layers.Layer):\n",
    "    def __init__(self, vocab_size, output_dim, input_dim):\n",
    "        super(PositionalEmbedding, self).__init__()\n",
    "        self.word_embedding = layers.Embedding(vocab_size, output_dim=output_dim, input_length=input_dim)\n",
    "        self.postional_embedding = layers.Embedding(input_dim, output_dim)\n",
    "        \n",
    "    def call(self, inputs):\n",
    "        position_indices = tf.range(tf.shape(inputs)[-1])\n",
    "        embedded_words = self.word_embedding(inputs)\n",
    "        embedded_indices = self.postional_embedding(position_indices)\n",
    "        return embedded_words + embedded_indices"
   ]
  },
  {
   "cell_type": "code",
   "execution_count": 77,
   "id": "23c5247f-505a-42ba-8ef9-f7b5bea7f141",
   "metadata": {
    "execution": {
     "iopub.execute_input": "2022-04-15T15:48:42.719213Z",
     "iopub.status.busy": "2022-04-15T15:48:42.718890Z",
     "iopub.status.idle": "2022-04-15T15:48:42.727307Z",
     "shell.execute_reply": "2022-04-15T15:48:42.726391Z",
     "shell.execute_reply.started": "2022-04-15T15:48:42.719173Z"
    }
   },
   "outputs": [],
   "source": [
    "class Transformer(keras.layers.Layer):\n",
    "    def __init__(self,num_heads, embed_dim, ff_dim, rate=0.1):\n",
    "        super(Transformer,self).__init__()\n",
    "        self.att = keras.layers.MultiHeadAttention(num_heads=num_heads, key_dim=embed_dim)\n",
    "        self.ffn = keras.Sequential(\n",
    "            [layers.Dense(ff_dim, activation=\"relu\"), layers.Dense(embed_dim),]\n",
    "        )\n",
    "        self.layernorm1 = keras.layers.LayerNormalization(epsilon=1e-6)\n",
    "        self.layernorm2 = keras.layers.LayerNormalization(epsilon=1e-6)\n",
    "        self.dropout1 = keras.layers.Dropout(rate)\n",
    "        self.dropout2 = keras.layers.Dropout(rate)\n",
    "    def call(self, inputs, training):\n",
    "        out1 = self.att(inputs, inputs)\n",
    "        out1 = self.dropout1(out1, training=training)\n",
    "        out1 = self.layernorm1(inputs + out1)\n",
    "        out2 = self.ffn(out1)\n",
    "        out2 = self.dropout2(out2, training=training)\n",
    "        output = self.layernorm2(out1 + out2)\n",
    "        \n",
    "        return output"
   ]
  },
  {
   "cell_type": "code",
   "execution_count": 78,
   "id": "7c63b019-968a-4e27-9c7b-03a90459583b",
   "metadata": {
    "execution": {
     "iopub.execute_input": "2022-04-15T15:48:42.728345Z",
     "iopub.status.busy": "2022-04-15T15:48:42.728168Z",
     "iopub.status.idle": "2022-04-15T15:48:42.734184Z",
     "shell.execute_reply": "2022-04-15T15:48:42.733298Z",
     "shell.execute_reply.started": "2022-04-15T15:48:42.728320Z"
    }
   },
   "outputs": [],
   "source": [
    "vocab_size = len(tokenizer.word_index)\n",
    "output_dim = 32\n",
    "input_dim = 24\n",
    "num_heads = 3\n",
    "embed_dim = 32\n",
    "ff_dim = 64"
   ]
  },
  {
   "cell_type": "code",
   "execution_count": 79,
   "id": "0c554c8a-b261-4aed-83a7-a3072d92297d",
   "metadata": {
    "execution": {
     "iopub.execute_input": "2022-04-15T15:48:42.735860Z",
     "iopub.status.busy": "2022-04-15T15:48:42.735564Z",
     "iopub.status.idle": "2022-04-15T15:48:42.755174Z",
     "shell.execute_reply": "2022-04-15T15:48:42.754014Z",
     "shell.execute_reply.started": "2022-04-15T15:48:42.735820Z"
    }
   },
   "outputs": [],
   "source": [
    "embedding_layer = PositionalEmbedding(vocab_size, output_dim, input_dim)\n",
    "transformer = Transformer(num_heads, embed_dim, ff_dim)"
   ]
  },
  {
   "cell_type": "code",
   "execution_count": 80,
   "id": "d45352f8-9d8d-4995-81e4-6ff4916c6257",
   "metadata": {
    "execution": {
     "iopub.execute_input": "2022-04-15T15:48:42.757392Z",
     "iopub.status.busy": "2022-04-15T15:48:42.757118Z",
     "iopub.status.idle": "2022-04-15T15:48:43.176725Z",
     "shell.execute_reply": "2022-04-15T15:48:43.175973Z",
     "shell.execute_reply.started": "2022-04-15T15:48:42.757353Z"
    }
   },
   "outputs": [],
   "source": [
    "inputs = keras.layers.Input(shape=(input_dim,))\n",
    "x = embedding_layer(inputs)\n",
    "x = transformer(x)\n",
    "x = keras.layers.GlobalAveragePooling1D()(x)\n",
    "x = keras.layers.Dropout(rate=0.1)(x)\n",
    "x = keras.layers.Dense(20, activation='relu')(x)\n",
    "x = keras.layers.Dropout(rate=0.1)(x)\n",
    "outputs = keras.layers.Dense(5, activation='softmax')(x)"
   ]
  },
  {
   "cell_type": "code",
   "execution_count": 81,
   "id": "1962a8a7-0cbc-4274-9a1a-d39f6783aa42",
   "metadata": {
    "execution": {
     "iopub.execute_input": "2022-04-15T15:48:43.178089Z",
     "iopub.status.busy": "2022-04-15T15:48:43.177902Z",
     "iopub.status.idle": "2022-04-15T15:48:43.188045Z",
     "shell.execute_reply": "2022-04-15T15:48:43.187215Z",
     "shell.execute_reply.started": "2022-04-15T15:48:43.178064Z"
    }
   },
   "outputs": [],
   "source": [
    "model = keras.Model(inputs = inputs, outputs=outputs)"
   ]
  },
  {
   "cell_type": "code",
   "execution_count": 82,
   "id": "ad18a182-2123-4242-9a22-506c428ce08c",
   "metadata": {
    "execution": {
     "iopub.execute_input": "2022-04-15T15:48:43.189226Z",
     "iopub.status.busy": "2022-04-15T15:48:43.189046Z",
     "iopub.status.idle": "2022-04-15T15:48:43.199852Z",
     "shell.execute_reply": "2022-04-15T15:48:43.199104Z",
     "shell.execute_reply.started": "2022-04-15T15:48:43.189201Z"
    }
   },
   "outputs": [],
   "source": [
    "model.compile(optimizer='adam', loss='sparse_categorical_crossentropy', metrics=['accuracy'])"
   ]
  },
  {
   "cell_type": "code",
   "execution_count": 83,
   "id": "fb4cd388-b4fb-41c3-b9b7-c34471cbb6c6",
   "metadata": {
    "execution": {
     "iopub.execute_input": "2022-04-15T15:48:43.200999Z",
     "iopub.status.busy": "2022-04-15T15:48:43.200789Z",
     "iopub.status.idle": "2022-04-15T15:57:04.831107Z",
     "shell.execute_reply": "2022-04-15T15:57:04.830082Z",
     "shell.execute_reply.started": "2022-04-15T15:48:43.200972Z"
    }
   },
   "outputs": [
    {
     "name": "stdout",
     "output_type": "stream",
     "text": [
      "Epoch 1/100\n",
      "516/516 [==============================] - 7s 10ms/step - loss: 1.4042 - accuracy: 0.3540\n",
      "Epoch 2/100\n",
      "516/516 [==============================] - 5s 10ms/step - loss: 1.2150 - accuracy: 0.4975\n",
      "Epoch 3/100\n",
      "516/516 [==============================] - 5s 10ms/step - loss: 1.0151 - accuracy: 0.6003\n",
      "Epoch 4/100\n",
      "516/516 [==============================] - 5s 10ms/step - loss: 0.9091 - accuracy: 0.6417\n",
      "Epoch 5/100\n",
      "516/516 [==============================] - 5s 10ms/step - loss: 0.8415 - accuracy: 0.6650\n",
      "Epoch 6/100\n",
      "516/516 [==============================] - 5s 9ms/step - loss: 0.7893 - accuracy: 0.6795\n",
      "Epoch 7/100\n",
      "516/516 [==============================] - 5s 10ms/step - loss: 0.7537 - accuracy: 0.6901\n",
      "Epoch 8/100\n",
      "516/516 [==============================] - 5s 10ms/step - loss: 0.7185 - accuracy: 0.7003\n",
      "Epoch 9/100\n",
      "516/516 [==============================] - 5s 10ms/step - loss: 0.6928 - accuracy: 0.7111\n",
      "Epoch 10/100\n",
      "516/516 [==============================] - 5s 9ms/step - loss: 0.6680 - accuracy: 0.7179\n",
      "Epoch 11/100\n",
      "516/516 [==============================] - 5s 10ms/step - loss: 0.6443 - accuracy: 0.7308\n",
      "Epoch 12/100\n",
      "516/516 [==============================] - 5s 10ms/step - loss: 0.6204 - accuracy: 0.7358\n",
      "Epoch 13/100\n",
      "516/516 [==============================] - 5s 10ms/step - loss: 0.6015 - accuracy: 0.7428\n",
      "Epoch 14/100\n",
      "516/516 [==============================] - 5s 11ms/step - loss: 0.5844 - accuracy: 0.7507\n",
      "Epoch 15/100\n",
      "516/516 [==============================] - 5s 10ms/step - loss: 0.5628 - accuracy: 0.7581\n",
      "Epoch 16/100\n",
      "516/516 [==============================] - 5s 10ms/step - loss: 0.5438 - accuracy: 0.7627\n",
      "Epoch 17/100\n",
      "516/516 [==============================] - 5s 10ms/step - loss: 0.5287 - accuracy: 0.7717\n",
      "Epoch 18/100\n",
      "516/516 [==============================] - 5s 9ms/step - loss: 0.5123 - accuracy: 0.7775\n",
      "Epoch 19/100\n",
      "516/516 [==============================] - 5s 9ms/step - loss: 0.4940 - accuracy: 0.7862\n",
      "Epoch 20/100\n",
      "516/516 [==============================] - 5s 10ms/step - loss: 0.4760 - accuracy: 0.7927\n",
      "Epoch 21/100\n",
      "516/516 [==============================] - 5s 9ms/step - loss: 0.4656 - accuracy: 0.7947\n",
      "Epoch 22/100\n",
      "516/516 [==============================] - 5s 10ms/step - loss: 0.4478 - accuracy: 0.8030\n",
      "Epoch 23/100\n",
      "516/516 [==============================] - 5s 10ms/step - loss: 0.4326 - accuracy: 0.8080\n",
      "Epoch 24/100\n",
      "516/516 [==============================] - 5s 10ms/step - loss: 0.4202 - accuracy: 0.8141\n",
      "Epoch 25/100\n",
      "516/516 [==============================] - 5s 10ms/step - loss: 0.4134 - accuracy: 0.8178\n",
      "Epoch 26/100\n",
      "516/516 [==============================] - 5s 10ms/step - loss: 0.4000 - accuracy: 0.8214\n",
      "Epoch 27/100\n",
      "516/516 [==============================] - 5s 10ms/step - loss: 0.3904 - accuracy: 0.8231\n",
      "Epoch 28/100\n",
      "516/516 [==============================] - 5s 10ms/step - loss: 0.3747 - accuracy: 0.8322\n",
      "Epoch 29/100\n",
      "516/516 [==============================] - 5s 10ms/step - loss: 0.3666 - accuracy: 0.8338\n",
      "Epoch 30/100\n",
      "516/516 [==============================] - 5s 10ms/step - loss: 0.3580 - accuracy: 0.8375\n",
      "Epoch 31/100\n",
      "516/516 [==============================] - 5s 10ms/step - loss: 0.3463 - accuracy: 0.8424\n",
      "Epoch 32/100\n",
      "516/516 [==============================] - 5s 10ms/step - loss: 0.3405 - accuracy: 0.8451\n",
      "Epoch 33/100\n",
      "516/516 [==============================] - 5s 10ms/step - loss: 0.3327 - accuracy: 0.8499\n",
      "Epoch 34/100\n",
      "516/516 [==============================] - 5s 10ms/step - loss: 0.3264 - accuracy: 0.8515\n",
      "Epoch 35/100\n",
      "516/516 [==============================] - 5s 10ms/step - loss: 0.3164 - accuracy: 0.8551\n",
      "Epoch 36/100\n",
      "516/516 [==============================] - 5s 10ms/step - loss: 0.3118 - accuracy: 0.8583\n",
      "Epoch 37/100\n",
      "516/516 [==============================] - 5s 10ms/step - loss: 0.3039 - accuracy: 0.8591\n",
      "Epoch 38/100\n",
      "516/516 [==============================] - 5s 10ms/step - loss: 0.3022 - accuracy: 0.8610\n",
      "Epoch 39/100\n",
      "516/516 [==============================] - 5s 10ms/step - loss: 0.2906 - accuracy: 0.8676\n",
      "Epoch 40/100\n",
      "516/516 [==============================] - 5s 9ms/step - loss: 0.2856 - accuracy: 0.8677\n",
      "Epoch 41/100\n",
      "516/516 [==============================] - 5s 9ms/step - loss: 0.2829 - accuracy: 0.8682\n",
      "Epoch 42/100\n",
      "516/516 [==============================] - 5s 10ms/step - loss: 0.2760 - accuracy: 0.8723\n",
      "Epoch 43/100\n",
      "516/516 [==============================] - 5s 9ms/step - loss: 0.2677 - accuracy: 0.8756\n",
      "Epoch 44/100\n",
      "516/516 [==============================] - 5s 9ms/step - loss: 0.2676 - accuracy: 0.8759\n",
      "Epoch 45/100\n",
      "516/516 [==============================] - 5s 9ms/step - loss: 0.2659 - accuracy: 0.8765\n",
      "Epoch 46/100\n",
      "516/516 [==============================] - 5s 9ms/step - loss: 0.2554 - accuracy: 0.8800\n",
      "Epoch 47/100\n",
      "516/516 [==============================] - 5s 9ms/step - loss: 0.2532 - accuracy: 0.8828\n",
      "Epoch 48/100\n",
      "516/516 [==============================] - 5s 10ms/step - loss: 0.2485 - accuracy: 0.8841\n",
      "Epoch 49/100\n",
      "516/516 [==============================] - 5s 10ms/step - loss: 0.2467 - accuracy: 0.8850\n",
      "Epoch 50/100\n",
      "516/516 [==============================] - 5s 10ms/step - loss: 0.2413 - accuracy: 0.8869\n",
      "Epoch 51/100\n",
      "516/516 [==============================] - 5s 10ms/step - loss: 0.2335 - accuracy: 0.8910\n",
      "Epoch 52/100\n",
      "516/516 [==============================] - 5s 10ms/step - loss: 0.2335 - accuracy: 0.8908\n",
      "Epoch 53/100\n",
      "516/516 [==============================] - 5s 10ms/step - loss: 0.2307 - accuracy: 0.8920\n",
      "Epoch 54/100\n",
      "516/516 [==============================] - 5s 10ms/step - loss: 0.2275 - accuracy: 0.8928\n",
      "Epoch 55/100\n",
      "516/516 [==============================] - 5s 10ms/step - loss: 0.2218 - accuracy: 0.8983\n",
      "Epoch 56/100\n",
      "516/516 [==============================] - 5s 10ms/step - loss: 0.2187 - accuracy: 0.8958\n",
      "Epoch 57/100\n",
      "516/516 [==============================] - 5s 10ms/step - loss: 0.2196 - accuracy: 0.8962\n",
      "Epoch 58/100\n",
      "516/516 [==============================] - 5s 9ms/step - loss: 0.2132 - accuracy: 0.9010\n",
      "Epoch 59/100\n",
      "516/516 [==============================] - 5s 9ms/step - loss: 0.2062 - accuracy: 0.9023\n",
      "Epoch 60/100\n",
      "516/516 [==============================] - 5s 9ms/step - loss: 0.2069 - accuracy: 0.9044\n",
      "Epoch 61/100\n",
      "516/516 [==============================] - 5s 9ms/step - loss: 0.2035 - accuracy: 0.9038\n",
      "Epoch 62/100\n",
      "516/516 [==============================] - 5s 9ms/step - loss: 0.2041 - accuracy: 0.9034\n",
      "Epoch 63/100\n",
      "516/516 [==============================] - 5s 10ms/step - loss: 0.2007 - accuracy: 0.9048\n",
      "Epoch 64/100\n",
      "516/516 [==============================] - 5s 9ms/step - loss: 0.1998 - accuracy: 0.9068\n",
      "Epoch 65/100\n",
      "516/516 [==============================] - 5s 10ms/step - loss: 0.1915 - accuracy: 0.9091\n",
      "Epoch 66/100\n",
      "516/516 [==============================] - 5s 9ms/step - loss: 0.1930 - accuracy: 0.9107\n",
      "Epoch 67/100\n",
      "516/516 [==============================] - 5s 9ms/step - loss: 0.1917 - accuracy: 0.9092\n",
      "Epoch 68/100\n",
      "516/516 [==============================] - 5s 9ms/step - loss: 0.1853 - accuracy: 0.9135\n",
      "Epoch 69/100\n",
      "516/516 [==============================] - 5s 10ms/step - loss: 0.1927 - accuracy: 0.9083\n",
      "Epoch 70/100\n",
      "516/516 [==============================] - 5s 10ms/step - loss: 0.1815 - accuracy: 0.9125\n",
      "Epoch 71/100\n",
      "516/516 [==============================] - 5s 10ms/step - loss: 0.1818 - accuracy: 0.9148\n",
      "Epoch 72/100\n",
      "516/516 [==============================] - 5s 9ms/step - loss: 0.1826 - accuracy: 0.9120\n",
      "Epoch 73/100\n",
      "516/516 [==============================] - 5s 10ms/step - loss: 0.1737 - accuracy: 0.9172\n",
      "Epoch 74/100\n",
      "516/516 [==============================] - 5s 10ms/step - loss: 0.1776 - accuracy: 0.9165\n",
      "Epoch 75/100\n",
      "516/516 [==============================] - 5s 10ms/step - loss: 0.1728 - accuracy: 0.9167\n",
      "Epoch 76/100\n",
      "516/516 [==============================] - 5s 9ms/step - loss: 0.1709 - accuracy: 0.9179\n",
      "Epoch 77/100\n",
      "516/516 [==============================] - 5s 9ms/step - loss: 0.1709 - accuracy: 0.9185\n",
      "Epoch 78/100\n",
      "516/516 [==============================] - 5s 10ms/step - loss: 0.1678 - accuracy: 0.9192\n",
      "Epoch 79/100\n",
      "516/516 [==============================] - 5s 10ms/step - loss: 0.1670 - accuracy: 0.9206\n",
      "Epoch 80/100\n",
      "516/516 [==============================] - 5s 10ms/step - loss: 0.1706 - accuracy: 0.9196\n",
      "Epoch 81/100\n",
      "516/516 [==============================] - 5s 10ms/step - loss: 0.1673 - accuracy: 0.9202\n",
      "Epoch 82/100\n",
      "516/516 [==============================] - 5s 10ms/step - loss: 0.1608 - accuracy: 0.9232\n",
      "Epoch 83/100\n",
      "516/516 [==============================] - 5s 10ms/step - loss: 0.1675 - accuracy: 0.9223\n",
      "Epoch 84/100\n",
      "516/516 [==============================] - 5s 9ms/step - loss: 0.1576 - accuracy: 0.9246\n",
      "Epoch 85/100\n",
      "516/516 [==============================] - 5s 10ms/step - loss: 0.1539 - accuracy: 0.9259\n",
      "Epoch 86/100\n",
      "516/516 [==============================] - 5s 10ms/step - loss: 0.1582 - accuracy: 0.9235\n",
      "Epoch 87/100\n",
      "516/516 [==============================] - 5s 9ms/step - loss: 0.1630 - accuracy: 0.9230\n",
      "Epoch 88/100\n",
      "516/516 [==============================] - 5s 10ms/step - loss: 0.1528 - accuracy: 0.9275\n",
      "Epoch 89/100\n",
      "516/516 [==============================] - 5s 10ms/step - loss: 0.1579 - accuracy: 0.9246\n",
      "Epoch 90/100\n",
      "516/516 [==============================] - 5s 9ms/step - loss: 0.1510 - accuracy: 0.9276\n",
      "Epoch 91/100\n",
      "516/516 [==============================] - 5s 10ms/step - loss: 0.1515 - accuracy: 0.9279\n",
      "Epoch 92/100\n",
      "516/516 [==============================] - 5s 10ms/step - loss: 0.1492 - accuracy: 0.9278\n",
      "Epoch 93/100\n",
      "516/516 [==============================] - 5s 10ms/step - loss: 0.1486 - accuracy: 0.9288\n",
      "Epoch 94/100\n",
      "516/516 [==============================] - 5s 10ms/step - loss: 0.1467 - accuracy: 0.9296\n",
      "Epoch 95/100\n",
      "516/516 [==============================] - 5s 10ms/step - loss: 0.1437 - accuracy: 0.9293\n",
      "Epoch 96/100\n",
      "516/516 [==============================] - 5s 9ms/step - loss: 0.1468 - accuracy: 0.9304\n",
      "Epoch 97/100\n",
      "516/516 [==============================] - 5s 10ms/step - loss: 0.1455 - accuracy: 0.9307\n",
      "Epoch 98/100\n",
      "516/516 [==============================] - 5s 10ms/step - loss: 0.1433 - accuracy: 0.9310\n",
      "Epoch 99/100\n",
      "516/516 [==============================] - 5s 10ms/step - loss: 0.1419 - accuracy: 0.9316\n",
      "Epoch 100/100\n",
      "516/516 [==============================] - 5s 10ms/step - loss: 0.1360 - accuracy: 0.9339\n"
     ]
    }
   ],
   "source": [
    "history = model.fit(x_data, y_data, epochs=100, batch_size=64)"
   ]
  },
  {
   "cell_type": "code",
   "execution_count": 84,
   "id": "1d905714-8f28-4a1c-bfbf-2b7e62648927",
   "metadata": {
    "execution": {
     "iopub.execute_input": "2022-04-15T15:57:04.832793Z",
     "iopub.status.busy": "2022-04-15T15:57:04.832583Z",
     "iopub.status.idle": "2022-04-15T15:57:04.844440Z",
     "shell.execute_reply": "2022-04-15T15:57:04.842479Z",
     "shell.execute_reply.started": "2022-04-15T15:57:04.832768Z"
    }
   },
   "outputs": [
    {
     "name": "stdout",
     "output_type": "stream",
     "text": [
      "Model: \"model_2\"\n",
      "_________________________________________________________________\n",
      " Layer (type)                Output Shape              Param #   \n",
      "=================================================================\n",
      " input_3 (InputLayer)        [(None, 24)]              0         \n",
      "                                                                 \n",
      " positional_embedding_2 (Pos  (None, 24, 32)           286528    \n",
      " itionalEmbedding)                                               \n",
      "                                                                 \n",
      " transformer_2 (Transformer)  (None, 24, 32)           16928     \n",
      "                                                                 \n",
      " global_average_pooling1d_2   (None, 32)               0         \n",
      " (GlobalAveragePooling1D)                                        \n",
      "                                                                 \n",
      " dropout_10 (Dropout)        (None, 32)                0         \n",
      "                                                                 \n",
      " dense_10 (Dense)            (None, 20)                660       \n",
      "                                                                 \n",
      " dropout_11 (Dropout)        (None, 20)                0         \n",
      "                                                                 \n",
      " dense_11 (Dense)            (None, 5)                 105       \n",
      "                                                                 \n",
      "=================================================================\n",
      "Total params: 304,221\n",
      "Trainable params: 304,221\n",
      "Non-trainable params: 0\n",
      "_________________________________________________________________\n"
     ]
    }
   ],
   "source": [
    "model.summary()"
   ]
  },
  {
   "cell_type": "code",
   "execution_count": 85,
   "id": "7590c6c4-00bc-4e7a-8cdc-e9dcb53d0588",
   "metadata": {
    "execution": {
     "iopub.execute_input": "2022-04-15T15:57:04.846745Z",
     "iopub.status.busy": "2022-04-15T15:57:04.846047Z",
     "iopub.status.idle": "2022-04-15T15:57:05.769461Z",
     "shell.execute_reply": "2022-04-15T15:57:05.768559Z",
     "shell.execute_reply.started": "2022-04-15T15:57:04.846689Z"
    }
   },
   "outputs": [
    {
     "name": "stdout",
     "output_type": "stream",
     "text": [
      "109/109 [==============================] - 1s 5ms/step - loss: 8.4516 - accuracy: 0.3976\n"
     ]
    },
    {
     "data": {
      "text/plain": [
       "[8.451582908630371, 0.3976389169692993]"
      ]
     },
     "execution_count": 85,
     "metadata": {},
     "output_type": "execute_result"
    }
   ],
   "source": [
    "model.evaluate(x_val, y_val)"
   ]
  },
  {
   "cell_type": "code",
   "execution_count": 86,
   "id": "84e451f3-4ae1-4eff-a4ae-6e6de1a72708",
   "metadata": {
    "execution": {
     "iopub.execute_input": "2022-04-15T15:57:05.770733Z",
     "iopub.status.busy": "2022-04-15T15:57:05.770522Z",
     "iopub.status.idle": "2022-04-15T15:57:05.776611Z",
     "shell.execute_reply": "2022-04-15T15:57:05.775584Z",
     "shell.execute_reply.started": "2022-04-15T15:57:05.770708Z"
    }
   },
   "outputs": [
    {
     "data": {
      "text/plain": [
       "(36473,)"
      ]
     },
     "execution_count": 86,
     "metadata": {},
     "output_type": "execute_result"
    }
   ],
   "source": [
    "y_score.shape"
   ]
  },
  {
   "cell_type": "code",
   "execution_count": 93,
   "id": "b5a54bc1-d3d0-42b6-82a0-e41129ee0629",
   "metadata": {
    "execution": {
     "iopub.execute_input": "2022-04-15T15:58:35.026442Z",
     "iopub.status.busy": "2022-04-15T15:58:35.026199Z",
     "iopub.status.idle": "2022-04-15T15:58:35.093862Z",
     "shell.execute_reply": "2022-04-15T15:58:35.092789Z",
     "shell.execute_reply.started": "2022-04-15T15:58:35.026417Z"
    }
   },
   "outputs": [],
   "source": [
    "predicts = model.predict(x_val[-15:])\n"
   ]
  },
  {
   "cell_type": "code",
   "execution_count": 95,
   "id": "79aec269-cdbe-4ea4-aea1-7f9265a4f278",
   "metadata": {
    "execution": {
     "iopub.execute_input": "2022-04-15T15:59:13.696563Z",
     "iopub.status.busy": "2022-04-15T15:59:13.695780Z",
     "iopub.status.idle": "2022-04-15T15:59:13.702663Z",
     "shell.execute_reply": "2022-04-15T15:59:13.701881Z",
     "shell.execute_reply.started": "2022-04-15T15:59:13.696534Z"
    }
   },
   "outputs": [
    {
     "name": "stdout",
     "output_type": "stream",
     "text": [
      "0\n",
      "2\n",
      "2\n",
      "2\n",
      "1\n",
      "0\n",
      "1\n",
      "1\n",
      "1\n",
      "1\n",
      "1\n",
      "1\n",
      "1\n",
      "1\n",
      "1\n"
     ]
    }
   ],
   "source": [
    "for x in predicts:\n",
    "    print(np.argmax(x))"
   ]
  },
  {
   "cell_type": "code",
   "execution_count": 96,
   "id": "704cc83b-d8a8-4bf7-8e22-51a1ecc2d6c4",
   "metadata": {
    "execution": {
     "iopub.execute_input": "2022-04-15T15:59:31.866968Z",
     "iopub.status.busy": "2022-04-15T15:59:31.866236Z",
     "iopub.status.idle": "2022-04-15T15:59:31.872437Z",
     "shell.execute_reply": "2022-04-15T15:59:31.871650Z",
     "shell.execute_reply.started": "2022-04-15T15:59:31.866938Z"
    }
   },
   "outputs": [
    {
     "data": {
      "text/plain": [
       "array([2, 1, 3, 3, 2, 0, 4, 2, 3, 2, 4, 2, 2, 3, 2])"
      ]
     },
     "execution_count": 96,
     "metadata": {},
     "output_type": "execute_result"
    }
   ],
   "source": [
    "y_val[-15:]"
   ]
  },
  {
   "cell_type": "code",
   "execution_count": null,
   "id": "76d24503-206d-4608-9c8d-621c7ffd64e9",
   "metadata": {},
   "outputs": [],
   "source": []
  }
 ],
 "metadata": {
  "kernelspec": {
   "display_name": "Python 3 (ipykernel)",
   "language": "python",
   "name": "python3"
  },
  "language_info": {
   "codemirror_mode": {
    "name": "ipython",
    "version": 3
   },
   "file_extension": ".py",
   "mimetype": "text/x-python",
   "name": "python",
   "nbconvert_exporter": "python",
   "pygments_lexer": "ipython3",
   "version": "3.8.10"
  }
 },
 "nbformat": 4,
 "nbformat_minor": 5
}
