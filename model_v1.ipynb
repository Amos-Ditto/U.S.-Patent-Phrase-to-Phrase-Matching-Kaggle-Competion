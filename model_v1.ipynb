{
 "cells": [
  {
   "cell_type": "code",
   "execution_count": 41,
   "id": "994545d4-769d-426b-b2d0-a05aa0bef444",
   "metadata": {
    "collapsed": false,
    "execution": {
     "iopub.execute_input": "2022-04-14T12:39:17.191296Z",
     "iopub.status.busy": "2022-04-14T12:39:17.190151Z",
     "iopub.status.idle": "2022-04-14T12:39:17.196424Z",
     "shell.execute_reply": "2022-04-14T12:39:17.195781Z",
     "shell.execute_reply.started": "2022-04-14T12:39:17.191247Z"
    },
    "gradient": {
     "editing": false,
     "id": "994545d4-769d-426b-b2d0-a05aa0bef444",
     "kernelId": "723cbc02-b4ac-4bbe-9f3d-7d81dae16521",
     "source_hidden": false
    },
    "jupyter": {
     "outputs_hidden": false
    }
   },
   "outputs": [],
   "source": [
    "import os\n",
    "import numpy as np\n",
    "import pandas as pd\n",
    "import tensorflow as tf\n",
    "from tensorflow import keras\n",
    "from keras import layers\n",
    "# from tensorflow.data.Dataset import from_tensor_slices\n",
    "from tensorflow.keras.preprocessing.text import tokenizer_from_json, Tokenizer"
   ]
  },
  {
   "cell_type": "code",
   "execution_count": 42,
   "id": "1be6f140-fcdd-407c-a2d3-19189fbfc078",
   "metadata": {
    "collapsed": false,
    "execution": {
     "iopub.execute_input": "2022-04-14T12:39:17.199202Z",
     "iopub.status.busy": "2022-04-14T12:39:17.198407Z",
     "iopub.status.idle": "2022-04-14T12:39:17.259905Z",
     "shell.execute_reply": "2022-04-14T12:39:17.259378Z",
     "shell.execute_reply.started": "2022-04-14T12:39:17.199169Z"
    },
    "gradient": {
     "editing": false,
     "id": "1be6f140-fcdd-407c-a2d3-19189fbfc078",
     "kernelId": "723cbc02-b4ac-4bbe-9f3d-7d81dae16521",
     "source_hidden": false
    },
    "jupyter": {
     "outputs_hidden": false
    }
   },
   "outputs": [],
   "source": [
    "path = 'train.csv'\n",
    "df = pd.read_csv(path)\n",
    "df = df.drop(columns=['id', 'context'])"
   ]
  },
  {
   "cell_type": "code",
   "execution_count": 43,
   "id": "7190071a-7612-4f97-870e-1f9cd20aad56",
   "metadata": {
    "collapsed": false,
    "execution": {
     "iopub.execute_input": "2022-04-14T12:39:17.261593Z",
     "iopub.status.busy": "2022-04-14T12:39:17.260947Z",
     "iopub.status.idle": "2022-04-14T12:39:17.267166Z",
     "shell.execute_reply": "2022-04-14T12:39:17.266719Z",
     "shell.execute_reply.started": "2022-04-14T12:39:17.261559Z"
    },
    "gradient": {
     "editing": false,
     "id": "7190071a-7612-4f97-870e-1f9cd20aad56",
     "kernelId": "723cbc02-b4ac-4bbe-9f3d-7d81dae16521",
     "source_hidden": false
    },
    "jupyter": {
     "outputs_hidden": false
    }
   },
   "outputs": [],
   "source": [
    "x_data_1 = df['anchor']\n",
    "x_data_2 = df['target']\n",
    "score = df['score']"
   ]
  },
  {
   "cell_type": "code",
   "execution_count": 44,
   "id": "5d1d7c55-6652-442f-bd89-a063eaa0f0fb",
   "metadata": {
    "collapsed": false,
    "execution": {
     "iopub.execute_input": "2022-04-14T12:39:17.268924Z",
     "iopub.status.busy": "2022-04-14T12:39:17.268303Z",
     "iopub.status.idle": "2022-04-14T12:39:17.284302Z",
     "shell.execute_reply": "2022-04-14T12:39:17.283726Z",
     "shell.execute_reply.started": "2022-04-14T12:39:17.268901Z"
    },
    "gradient": {
     "editing": false,
     "id": "5d1d7c55-6652-442f-bd89-a063eaa0f0fb",
     "kernelId": "723cbc02-b4ac-4bbe-9f3d-7d81dae16521",
     "source_hidden": false
    },
    "jupyter": {
     "outputs_hidden": false
    }
   },
   "outputs": [],
   "source": [
    "x_combined = x_data_1 + \" \" + x_data_2"
   ]
  },
  {
   "cell_type": "code",
   "execution_count": 45,
   "id": "f4a04e81-7f3b-4172-abe1-da2f3479b983",
   "metadata": {
    "collapsed": false,
    "execution": {
     "iopub.execute_input": "2022-04-14T12:39:17.285818Z",
     "iopub.status.busy": "2022-04-14T12:39:17.285238Z",
     "iopub.status.idle": "2022-04-14T12:39:17.621912Z",
     "shell.execute_reply": "2022-04-14T12:39:17.621377Z",
     "shell.execute_reply.started": "2022-04-14T12:39:17.285782Z"
    },
    "gradient": {
     "editing": true,
     "id": "f4a04e81-7f3b-4172-abe1-da2f3479b983",
     "kernelId": "723cbc02-b4ac-4bbe-9f3d-7d81dae16521",
     "source_hidden": false
    },
    "jupyter": {
     "outputs_hidden": false
    }
   },
   "outputs": [],
   "source": [
    "tokenizer = Tokenizer()\n",
    "tokenizer.fit_on_texts(x_combined)"
   ]
  },
  {
   "cell_type": "code",
   "execution_count": 46,
   "id": "4f8d1138-732f-4fd4-bf68-aa49242c890d",
   "metadata": {
    "collapsed": false,
    "execution": {
     "iopub.execute_input": "2022-04-14T12:39:17.623660Z",
     "iopub.status.busy": "2022-04-14T12:39:17.623016Z",
     "iopub.status.idle": "2022-04-14T12:39:18.149910Z",
     "shell.execute_reply": "2022-04-14T12:39:18.149165Z",
     "shell.execute_reply.started": "2022-04-14T12:39:17.623634Z"
    },
    "gradient": {
     "editing": false,
     "execution_count": 9,
     "id": "4f8d1138-732f-4fd4-bf68-aa49242c890d",
     "kernelId": "723cbc02-b4ac-4bbe-9f3d-7d81dae16521",
     "source_hidden": false
    },
    "jupyter": {
     "outputs_hidden": false
    }
   },
   "outputs": [],
   "source": [
    "anchor_tokenized = tokenizer.texts_to_sequences(x_data_1)\n",
    "target_tokenized = tokenizer.texts_to_sequences(x_data_2)"
   ]
  },
  {
   "cell_type": "code",
   "execution_count": 47,
   "id": "2c1fa626-bbcd-4f8d-964c-79f2cbad61d1",
   "metadata": {
    "execution": {
     "iopub.execute_input": "2022-04-14T12:39:18.151796Z",
     "iopub.status.busy": "2022-04-14T12:39:18.151572Z",
     "iopub.status.idle": "2022-04-14T12:39:18.415694Z",
     "shell.execute_reply": "2022-04-14T12:39:18.414910Z",
     "shell.execute_reply.started": "2022-04-14T12:39:18.151747Z"
    }
   },
   "outputs": [],
   "source": [
    "padded_anchor = tf.keras.preprocessing.sequence.pad_sequences(anchor_tokenized, maxlen=7)\n",
    "padded_target = tf.keras.preprocessing.sequence.pad_sequences(target_tokenized, maxlen=17)"
   ]
  },
  {
   "cell_type": "code",
   "execution_count": 48,
   "id": "025731ba-6480-49d0-bf8d-2411098d7c3d",
   "metadata": {
    "collapsed": false,
    "execution": {
     "iopub.execute_input": "2022-04-14T12:39:18.417005Z",
     "iopub.status.busy": "2022-04-14T12:39:18.416797Z",
     "iopub.status.idle": "2022-04-14T12:39:18.426449Z",
     "shell.execute_reply": "2022-04-14T12:39:18.425359Z",
     "shell.execute_reply.started": "2022-04-14T12:39:18.416981Z"
    },
    "gradient": {
     "editing": false,
     "execution_count": 17,
     "id": "025731ba-6480-49d0-bf8d-2411098d7c3d",
     "kernelId": "723cbc02-b4ac-4bbe-9f3d-7d81dae16521",
     "source_hidden": false
    },
    "jupyter": {
     "outputs_hidden": false
    }
   },
   "outputs": [],
   "source": [
    "all_inputs = tf.keras.layers.Concatenate(axis=1)([padded_anchor, padded_target])"
   ]
  },
  {
   "cell_type": "code",
   "execution_count": 49,
   "id": "dd79fa79-7127-4be5-aa06-8ccb866d9802",
   "metadata": {
    "execution": {
     "iopub.execute_input": "2022-04-14T12:39:18.427813Z",
     "iopub.status.busy": "2022-04-14T12:39:18.427615Z",
     "iopub.status.idle": "2022-04-14T12:39:18.434103Z",
     "shell.execute_reply": "2022-04-14T12:39:18.433305Z",
     "shell.execute_reply.started": "2022-04-14T12:39:18.427789Z"
    },
    "gradient": {
     "editing": false,
     "id": "dd79fa79-7127-4be5-aa06-8ccb866d9802",
     "kernelId": "723cbc02-b4ac-4bbe-9f3d-7d81dae16521",
     "source_hidden": false
    }
   },
   "outputs": [],
   "source": [
    "from sklearn.preprocessing import LabelEncoder\n",
    "LE = LabelEncoder()\n",
    "y_score = LE.fit_transform(score)"
   ]
  },
  {
   "cell_type": "code",
   "execution_count": null,
   "id": "4db109a6-49c5-42b7-bc66-e207326b9784",
   "metadata": {},
   "outputs": [],
   "source": []
  },
  {
   "cell_type": "markdown",
   "id": "0d99888b-3ba3-4d1a-b58b-7a51bbc32020",
   "metadata": {},
   "source": [
    "## Build Encoder Decoder Model"
   ]
  },
  {
   "cell_type": "code",
   "execution_count": 50,
   "id": "9d3fa1bc-3e3d-4876-8ef5-93c92b1678aa",
   "metadata": {
    "execution": {
     "iopub.execute_input": "2022-04-14T12:39:18.436022Z",
     "iopub.status.busy": "2022-04-14T12:39:18.435844Z",
     "iopub.status.idle": "2022-04-14T12:39:18.441493Z",
     "shell.execute_reply": "2022-04-14T12:39:18.440549Z",
     "shell.execute_reply.started": "2022-04-14T12:39:18.436001Z"
    }
   },
   "outputs": [],
   "source": [
    "class PositionalEmbedding(keras.layers.Layer):\n",
    "    def __init__(self, vocab_size, output_dim, input_dim):\n",
    "        super(PositionalEmbedding, self).__init__()\n",
    "        self.word_embedding = layers.Embedding(vocab_size, output_dim=output_dim, input_length=input_dim)\n",
    "        self.postional_embedding = layers.Embedding(input_dim, output_dim)\n",
    "        \n",
    "    def call(self, inputs):\n",
    "        position_indices = tf.range(tf.shape(inputs)[-1])\n",
    "        embedded_words = self.word_embedding(inputs)\n",
    "        embedded_indices = self.postional_embedding(position_indices)\n",
    "        return embedded_words + embedded_indices"
   ]
  },
  {
   "cell_type": "code",
   "execution_count": 51,
   "id": "23c5247f-505a-42ba-8ef9-f7b5bea7f141",
   "metadata": {
    "execution": {
     "iopub.execute_input": "2022-04-14T12:39:18.443426Z",
     "iopub.status.busy": "2022-04-14T12:39:18.443258Z",
     "iopub.status.idle": "2022-04-14T12:39:18.450304Z",
     "shell.execute_reply": "2022-04-14T12:39:18.449252Z",
     "shell.execute_reply.started": "2022-04-14T12:39:18.443405Z"
    }
   },
   "outputs": [],
   "source": [
    "class Transformer(keras.layers.Layer):\n",
    "    def __init__(self,num_heads, embed_dim, ff_dim, rate=0.1):\n",
    "        super(Transformer,self).__init__()\n",
    "        self.att = keras.layers.MultiHeadAttention(num_heads=num_heads, key_dim=embed_dim)\n",
    "        self.ffn = keras.Sequential(\n",
    "            [layers.Dense(ff_dim, activation=\"relu\"), layers.Dense(embed_dim),]\n",
    "        )\n",
    "        self.layernorm1 = keras.layers.LayerNormalization(epsilon=1e-6)\n",
    "        self.layernorm2 = keras.layers.LayerNormalization(epsilon=1e-6)\n",
    "        self.dropout1 = keras.layers.Dropout(rate)\n",
    "        self.dropout2 = keras.layers.Dropout(rate)\n",
    "    def call(self, inputs, training):\n",
    "        out1 = self.att(inputs, inputs)\n",
    "        out1 = self.dropout1(out1, training=training)\n",
    "        out1 = self.layernorm1(inputs + out1)\n",
    "        out2 = self.ffn(out1)\n",
    "        out2 = self.dropout2(out2, training=training)\n",
    "        output = self.layernorm2(out1 + out2)\n",
    "        \n",
    "        return output"
   ]
  },
  {
   "cell_type": "code",
   "execution_count": 52,
   "id": "7c63b019-968a-4e27-9c7b-03a90459583b",
   "metadata": {
    "execution": {
     "iopub.execute_input": "2022-04-14T12:39:18.451695Z",
     "iopub.status.busy": "2022-04-14T12:39:18.451453Z",
     "iopub.status.idle": "2022-04-14T12:39:18.456400Z",
     "shell.execute_reply": "2022-04-14T12:39:18.455378Z",
     "shell.execute_reply.started": "2022-04-14T12:39:18.451665Z"
    }
   },
   "outputs": [],
   "source": [
    "vocab_size = len(tokenizer.word_index)\n",
    "output_dim = 32\n",
    "input_dim = 24\n",
    "num_heads = 3\n",
    "embed_dim = 32\n",
    "ff_dim = 64"
   ]
  },
  {
   "cell_type": "code",
   "execution_count": 53,
   "id": "0c554c8a-b261-4aed-83a7-a3072d92297d",
   "metadata": {
    "execution": {
     "iopub.execute_input": "2022-04-14T12:39:18.458515Z",
     "iopub.status.busy": "2022-04-14T12:39:18.458221Z",
     "iopub.status.idle": "2022-04-14T12:39:18.474211Z",
     "shell.execute_reply": "2022-04-14T12:39:18.473356Z",
     "shell.execute_reply.started": "2022-04-14T12:39:18.458470Z"
    }
   },
   "outputs": [],
   "source": [
    "embedding_layer = PositionalEmbedding(vocab_size, output_dim, input_dim)\n",
    "transformer = Transformer(num_heads, embed_dim, ff_dim)"
   ]
  },
  {
   "cell_type": "code",
   "execution_count": 54,
   "id": "d45352f8-9d8d-4995-81e4-6ff4916c6257",
   "metadata": {
    "execution": {
     "iopub.execute_input": "2022-04-14T12:39:18.475668Z",
     "iopub.status.busy": "2022-04-14T12:39:18.475454Z",
     "iopub.status.idle": "2022-04-14T12:39:18.786311Z",
     "shell.execute_reply": "2022-04-14T12:39:18.785515Z",
     "shell.execute_reply.started": "2022-04-14T12:39:18.475644Z"
    }
   },
   "outputs": [],
   "source": [
    "inputs = keras.layers.Input(shape=(input_dim,))\n",
    "x = embedding_layer(inputs)\n",
    "x = transformer(x)\n",
    "x = keras.layers.GlobalAveragePooling1D()(x)\n",
    "x = keras.layers.Dropout(rate=0.1)(x)\n",
    "x = keras.layers.Dense(20, activation='relu')(x)\n",
    "x = keras.layers.Dropout(rate=0.1)(x)\n",
    "outputs = keras.layers.Dense(5, activation='softmax')(x)"
   ]
  },
  {
   "cell_type": "code",
   "execution_count": 55,
   "id": "1962a8a7-0cbc-4274-9a1a-d39f6783aa42",
   "metadata": {
    "execution": {
     "iopub.execute_input": "2022-04-14T12:39:18.787950Z",
     "iopub.status.busy": "2022-04-14T12:39:18.787204Z",
     "iopub.status.idle": "2022-04-14T12:39:18.794514Z",
     "shell.execute_reply": "2022-04-14T12:39:18.793949Z",
     "shell.execute_reply.started": "2022-04-14T12:39:18.787926Z"
    }
   },
   "outputs": [],
   "source": [
    "model = keras.Model(inputs = inputs, outputs=outputs)"
   ]
  },
  {
   "cell_type": "code",
   "execution_count": 56,
   "id": "ad18a182-2123-4242-9a22-506c428ce08c",
   "metadata": {
    "execution": {
     "iopub.execute_input": "2022-04-14T12:39:18.795823Z",
     "iopub.status.busy": "2022-04-14T12:39:18.795387Z",
     "iopub.status.idle": "2022-04-14T12:39:18.804555Z",
     "shell.execute_reply": "2022-04-14T12:39:18.803987Z",
     "shell.execute_reply.started": "2022-04-14T12:39:18.795800Z"
    }
   },
   "outputs": [],
   "source": [
    "model.compile(optimizer='adam', loss='sparse_categorical_crossentropy', metrics=['accuracy'])"
   ]
  },
  {
   "cell_type": "code",
   "execution_count": 57,
   "id": "fb4cd388-b4fb-41c3-b9b7-c34471cbb6c6",
   "metadata": {
    "execution": {
     "iopub.execute_input": "2022-04-14T12:39:18.806125Z",
     "iopub.status.busy": "2022-04-14T12:39:18.805452Z",
     "iopub.status.idle": "2022-04-14T12:42:15.737741Z",
     "shell.execute_reply": "2022-04-14T12:42:15.737014Z",
     "shell.execute_reply.started": "2022-04-14T12:39:18.806100Z"
    }
   },
   "outputs": [
    {
     "name": "stdout",
     "output_type": "stream",
     "text": [
      "Epoch 1/40\n",
      "570/570 [==============================] - 6s 7ms/step - loss: 1.4157 - accuracy: 0.3404\n",
      "Epoch 2/40\n",
      "570/570 [==============================] - 4s 8ms/step - loss: 1.2279 - accuracy: 0.4913\n",
      "Epoch 3/40\n",
      "570/570 [==============================] - 4s 7ms/step - loss: 1.0266 - accuracy: 0.5981\n",
      "Epoch 4/40\n",
      "570/570 [==============================] - 4s 8ms/step - loss: 0.9145 - accuracy: 0.6400\n",
      "Epoch 5/40\n",
      "570/570 [==============================] - 4s 8ms/step - loss: 0.8435 - accuracy: 0.6655\n",
      "Epoch 6/40\n",
      "570/570 [==============================] - 4s 7ms/step - loss: 0.7959 - accuracy: 0.6790\n",
      "Epoch 7/40\n",
      "570/570 [==============================] - 4s 8ms/step - loss: 0.7574 - accuracy: 0.6889\n",
      "Epoch 8/40\n",
      "570/570 [==============================] - 4s 8ms/step - loss: 0.7241 - accuracy: 0.6992\n",
      "Epoch 9/40\n",
      "570/570 [==============================] - 4s 7ms/step - loss: 0.6966 - accuracy: 0.7080\n",
      "Epoch 10/40\n",
      "570/570 [==============================] - 4s 8ms/step - loss: 0.6735 - accuracy: 0.7135\n",
      "Epoch 11/40\n",
      "570/570 [==============================] - 4s 8ms/step - loss: 0.6488 - accuracy: 0.7236\n",
      "Epoch 12/40\n",
      "570/570 [==============================] - 4s 8ms/step - loss: 0.6254 - accuracy: 0.7299\n",
      "Epoch 13/40\n",
      "570/570 [==============================] - 4s 7ms/step - loss: 0.6078 - accuracy: 0.7368\n",
      "Epoch 14/40\n",
      "570/570 [==============================] - 4s 8ms/step - loss: 0.5887 - accuracy: 0.7438\n",
      "Epoch 15/40\n",
      "570/570 [==============================] - 4s 8ms/step - loss: 0.5718 - accuracy: 0.7486\n",
      "Epoch 16/40\n",
      "570/570 [==============================] - 4s 8ms/step - loss: 0.5509 - accuracy: 0.7572\n",
      "Epoch 17/40\n",
      "570/570 [==============================] - 4s 8ms/step - loss: 0.5321 - accuracy: 0.7654\n",
      "Epoch 18/40\n",
      "570/570 [==============================] - 4s 8ms/step - loss: 0.5202 - accuracy: 0.7687\n",
      "Epoch 19/40\n",
      "570/570 [==============================] - 4s 8ms/step - loss: 0.5023 - accuracy: 0.7762\n",
      "Epoch 20/40\n",
      "570/570 [==============================] - 4s 8ms/step - loss: 0.4874 - accuracy: 0.7806\n",
      "Epoch 21/40\n",
      "570/570 [==============================] - 4s 8ms/step - loss: 0.4754 - accuracy: 0.7871\n",
      "Epoch 22/40\n",
      "570/570 [==============================] - 4s 8ms/step - loss: 0.4639 - accuracy: 0.7912\n",
      "Epoch 23/40\n",
      "570/570 [==============================] - 4s 8ms/step - loss: 0.4515 - accuracy: 0.7978\n",
      "Epoch 24/40\n",
      "570/570 [==============================] - 4s 8ms/step - loss: 0.4329 - accuracy: 0.8037\n",
      "Epoch 25/40\n",
      "570/570 [==============================] - 4s 8ms/step - loss: 0.4284 - accuracy: 0.8054\n",
      "Epoch 26/40\n",
      "570/570 [==============================] - 5s 8ms/step - loss: 0.4130 - accuracy: 0.8131\n",
      "Epoch 27/40\n",
      "570/570 [==============================] - 4s 8ms/step - loss: 0.4028 - accuracy: 0.8162\n",
      "Epoch 28/40\n",
      "570/570 [==============================] - 4s 8ms/step - loss: 0.3952 - accuracy: 0.8186\n",
      "Epoch 29/40\n",
      "570/570 [==============================] - 4s 8ms/step - loss: 0.3898 - accuracy: 0.8236\n",
      "Epoch 30/40\n",
      "570/570 [==============================] - 4s 8ms/step - loss: 0.3722 - accuracy: 0.8263\n",
      "Epoch 31/40\n",
      "570/570 [==============================] - 4s 8ms/step - loss: 0.3697 - accuracy: 0.8274\n",
      "Epoch 32/40\n",
      "570/570 [==============================] - 4s 8ms/step - loss: 0.3601 - accuracy: 0.8339\n",
      "Epoch 33/40\n",
      "570/570 [==============================] - 4s 8ms/step - loss: 0.3558 - accuracy: 0.8363\n",
      "Epoch 34/40\n",
      "570/570 [==============================] - 4s 8ms/step - loss: 0.3450 - accuracy: 0.8410\n",
      "Epoch 35/40\n",
      "570/570 [==============================] - 4s 8ms/step - loss: 0.3405 - accuracy: 0.8417\n",
      "Epoch 36/40\n",
      "570/570 [==============================] - 5s 8ms/step - loss: 0.3325 - accuracy: 0.8453\n",
      "Epoch 37/40\n",
      "570/570 [==============================] - 4s 8ms/step - loss: 0.3264 - accuracy: 0.8487\n",
      "Epoch 38/40\n",
      "570/570 [==============================] - 5s 8ms/step - loss: 0.3188 - accuracy: 0.8521\n",
      "Epoch 39/40\n",
      "570/570 [==============================] - 4s 8ms/step - loss: 0.3146 - accuracy: 0.8528\n",
      "Epoch 40/40\n",
      "570/570 [==============================] - 5s 8ms/step - loss: 0.3131 - accuracy: 0.8551\n"
     ]
    }
   ],
   "source": [
    "history = model.fit(all_inputs, y_score, epochs=40, batch_size=64)"
   ]
  },
  {
   "cell_type": "code",
   "execution_count": 58,
   "id": "1d905714-8f28-4a1c-bfbf-2b7e62648927",
   "metadata": {
    "execution": {
     "iopub.execute_input": "2022-04-14T12:42:35.591273Z",
     "iopub.status.busy": "2022-04-14T12:42:35.591043Z",
     "iopub.status.idle": "2022-04-14T12:42:35.601660Z",
     "shell.execute_reply": "2022-04-14T12:42:35.600783Z",
     "shell.execute_reply.started": "2022-04-14T12:42:35.591249Z"
    }
   },
   "outputs": [
    {
     "name": "stdout",
     "output_type": "stream",
     "text": [
      "Model: \"model_1\"\n",
      "_________________________________________________________________\n",
      " Layer (type)                Output Shape              Param #   \n",
      "=================================================================\n",
      " input_3 (InputLayer)        [(None, 24)]              0         \n",
      "                                                                 \n",
      " positional_embedding_4 (Pos  (None, 24, 32)           286528    \n",
      " itionalEmbedding)                                               \n",
      "                                                                 \n",
      " transformer_2 (Transformer)  (None, 24, 32)           16928     \n",
      "                                                                 \n",
      " global_average_pooling1d_1   (None, 32)               0         \n",
      " (GlobalAveragePooling1D)                                        \n",
      "                                                                 \n",
      " dropout_8 (Dropout)         (None, 32)                0         \n",
      "                                                                 \n",
      " dense_8 (Dense)             (None, 20)                660       \n",
      "                                                                 \n",
      " dropout_9 (Dropout)         (None, 20)                0         \n",
      "                                                                 \n",
      " dense_9 (Dense)             (None, 5)                 105       \n",
      "                                                                 \n",
      "=================================================================\n",
      "Total params: 304,221\n",
      "Trainable params: 304,221\n",
      "Non-trainable params: 0\n",
      "_________________________________________________________________\n"
     ]
    }
   ],
   "source": [
    "model.summary()"
   ]
  },
  {
   "cell_type": "code",
   "execution_count": 68,
   "id": "7590c6c4-00bc-4e7a-8cdc-e9dcb53d0588",
   "metadata": {
    "execution": {
     "iopub.execute_input": "2022-04-14T12:54:48.977514Z",
     "iopub.status.busy": "2022-04-14T12:54:48.976773Z",
     "iopub.status.idle": "2022-04-14T12:54:49.423800Z",
     "shell.execute_reply": "2022-04-14T12:54:49.422775Z",
     "shell.execute_reply.started": "2022-04-14T12:54:48.977475Z"
    }
   },
   "outputs": [
    {
     "name": "stdout",
     "output_type": "stream",
     "text": [
      "32/32 [==============================] - 0s 5ms/step - loss: 0.1960 - accuracy: 0.9140\n"
     ]
    },
    {
     "data": {
      "text/plain": [
       "[0.1960495114326477, 0.9139999747276306]"
      ]
     },
     "execution_count": 68,
     "metadata": {},
     "output_type": "execute_result"
    }
   ],
   "source": [
    "model.evaluate(all_inputs[:1000], y_score[:1000])"
   ]
  },
  {
   "cell_type": "code",
   "execution_count": 67,
   "id": "84e451f3-4ae1-4eff-a4ae-6e6de1a72708",
   "metadata": {
    "execution": {
     "iopub.execute_input": "2022-04-14T12:54:31.881067Z",
     "iopub.status.busy": "2022-04-14T12:54:31.880820Z",
     "iopub.status.idle": "2022-04-14T12:54:31.887254Z",
     "shell.execute_reply": "2022-04-14T12:54:31.885924Z",
     "shell.execute_reply.started": "2022-04-14T12:54:31.881041Z"
    }
   },
   "outputs": [
    {
     "data": {
      "text/plain": [
       "(36473,)"
      ]
     },
     "execution_count": 67,
     "metadata": {},
     "output_type": "execute_result"
    }
   ],
   "source": [
    "y_score.shape"
   ]
  },
  {
   "cell_type": "code",
   "execution_count": null,
   "id": "b5a54bc1-d3d0-42b6-82a0-e41129ee0629",
   "metadata": {},
   "outputs": [],
   "source": []
  }
 ],
 "metadata": {
  "kernelspec": {
   "display_name": "Python 3 (ipykernel)",
   "language": "python",
   "name": "python3"
  },
  "language_info": {
   "codemirror_mode": {
    "name": "ipython",
    "version": 3
   },
   "file_extension": ".py",
   "mimetype": "text/x-python",
   "name": "python",
   "nbconvert_exporter": "python",
   "pygments_lexer": "ipython3",
   "version": "3.8.10"
  }
 },
 "nbformat": 4,
 "nbformat_minor": 5
}
